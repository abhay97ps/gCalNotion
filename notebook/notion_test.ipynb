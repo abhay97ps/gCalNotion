{
 "cells": [
  {
   "cell_type": "code",
   "execution_count": 1,
   "id": "ff55757d-0a85-41d4-9cbd-eacc1b06c01f",
   "metadata": {},
   "outputs": [],
   "source": [
    "from notion_client import Client\n",
    "import json\n",
    "import pprint"
   ]
  },
  {
   "cell_type": "code",
   "execution_count": 2,
   "id": "0174a2e3-23e8-4f97-a1ee-9b5129a34206",
   "metadata": {},
   "outputs": [],
   "source": [
    "notion = Client(auth=\"secret_NrDMrAWYWikqOb6Rp8Z1UsfUZSeqM9eaYObugDnKu9U\")\n"
   ]
  },
  {
   "cell_type": "code",
   "execution_count": 3,
   "id": "14bfd115-6d26-487e-98cf-b8ef1d26024b",
   "metadata": {},
   "outputs": [
    {
     "name": "stdout",
     "output_type": "stream",
     "text": [
      "{   'has_more': False,\n",
      "    'next_cursor': None,\n",
      "    'object': 'list',\n",
      "    'results': [   {   'avatar_url': 'https://s3-us-west-2.amazonaws.com/public.notion-static.com/ddc875e6-c5df-4d28-bc4e-98a1a8ab1136/1682638289829.jpeg',\n",
      "                       'id': '3d85dfcc-c1c7-40da-acb9-345cfff5adf2',\n",
      "                       'name': 'Abhay Singh',\n",
      "                       'object': 'user',\n",
      "                       'person': {'email': 'aps.maildrop@gmail.com'},\n",
      "                       'type': 'person'},\n",
      "                   {   'avatar_url': 'https://s3-us-west-2.amazonaws.com/public.notion-static.com/b868af15-0101-4890-8932-00f40898d3ac/Google_Calendar_icon_(2020).svg',\n",
      "                       'bot': {   'owner': {   'type': 'workspace',\n",
      "                                               'workspace': True},\n",
      "                                  'workspace_name': 'Abhay'},\n",
      "                       'id': 'cb22b017-b24c-4c99-a875-0a4639099400',\n",
      "                       'name': 'gCal',\n",
      "                       'object': 'user',\n",
      "                       'type': 'bot'}],\n",
      "    'type': 'user',\n",
      "    'user': {}}\n"
     ]
    }
   ],
   "source": [
    "pp = pprint.PrettyPrinter(indent=4)\n",
    "pp.pprint(notion.users.list())"
   ]
  },
  {
   "cell_type": "code",
   "execution_count": 4,
   "id": "fbbcba6f-0e4f-4e1a-a1fc-19883b8e1e4b",
   "metadata": {},
   "outputs": [
    {
     "name": "stdout",
     "output_type": "stream",
     "text": [
      "{   'has_more': False,\n",
      "    'next_cursor': None,\n",
      "    'object': 'list',\n",
      "    'page_or_database': {},\n",
      "    'results': [   {   'archived': False,\n",
      "                       'cover': None,\n",
      "                       'created_by': {   'id': '3d85dfcc-c1c7-40da-acb9-345cfff5adf2',\n",
      "                                         'object': 'user'},\n",
      "                       'created_time': '2022-07-30T06:58:00.000Z',\n",
      "                       'description': [],\n",
      "                       'icon': None,\n",
      "                       'id': '02545d27-35d0-4ac1-a3d9-4ad026cfa050',\n",
      "                       'is_inline': True,\n",
      "                       'last_edited_by': {   'id': '3d85dfcc-c1c7-40da-acb9-345cfff5adf2',\n",
      "                                             'object': 'user'},\n",
      "                       'last_edited_time': '2023-10-07T23:18:00.000Z',\n",
      "                       'object': 'database',\n",
      "                       'parent': {   'page_id': 'f8c2d78d-1355-4af6-9468-4d447fb010e1',\n",
      "                                     'type': 'page_id'},\n",
      "                       'properties': {   'Complexity': {   'id': '~iYV',\n",
      "                                                           'name': 'Complexity',\n",
      "                                                           'select': {   'options': [   {   'color': 'blue',\n",
      "                                                                                            'id': '[xcR',\n",
      "                                                                                            'name': 'low'},\n",
      "                                                                                        {   'color': 'default',\n",
      "                                                                                            'id': 'jxx[',\n",
      "                                                                                            'name': 'medium'},\n",
      "                                                                                        {   'color': 'pink',\n",
      "                                                                                            'id': 'iG^Z',\n",
      "                                                                                            'name': 'high'}]},\n",
      "                                                           'type': 'select'},\n",
      "                                         'Due Date': {   'date': {},\n",
      "                                                         'id': 'HGNu',\n",
      "                                                         'name': 'Due Date',\n",
      "                                                         'type': 'date'},\n",
      "                                         'Impact': {   'id': 'xnqz',\n",
      "                                                       'name': 'Impact',\n",
      "                                                       'select': {   'options': [   {   'color': 'blue',\n",
      "                                                                                        'id': 'v<v{',\n",
      "                                                                                        'name': 'low'},\n",
      "                                                                                    {   'color': 'pink',\n",
      "                                                                                        'id': 'xu`X',\n",
      "                                                                                        'name': 'medium'},\n",
      "                                                                                    {   'color': 'default',\n",
      "                                                                                        'id': 'Bk~K',\n",
      "                                                                                        'name': 'high'}]},\n",
      "                                                       'type': 'select'},\n",
      "                                         'LOE': {   'id': '%7BEoI',\n",
      "                                                    'name': 'LOE',\n",
      "                                                    'select': {   'options': [   {   'color': 'default',\n",
      "                                                                                     'id': 'tPhw',\n",
      "                                                                                     'name': 'Break '\n",
      "                                                                                             'into '\n",
      "                                                                                             'smaller '\n",
      "                                                                                             'pieces'},\n",
      "                                                                                 {   'color': 'blue',\n",
      "                                                                                     'id': 'PXj;',\n",
      "                                                                                     'name': '1 '\n",
      "                                                                                             'Day'},\n",
      "                                                                                 {   'color': 'gray',\n",
      "                                                                                     'id': 'FHg:',\n",
      "                                                                                     'name': '<6H'},\n",
      "                                                                                 {   'color': 'purple',\n",
      "                                                                                     'id': '}fxX',\n",
      "                                                                                     'name': '<4H'},\n",
      "                                                                                 {   'color': 'red',\n",
      "                                                                                     'id': '\\\\vYR',\n",
      "                                                                                     'name': '<2H'}]},\n",
      "                                                    'type': 'select'},\n",
      "                                         'Name': {   'id': 'title',\n",
      "                                                     'name': 'Name',\n",
      "                                                     'title': {},\n",
      "                                                     'type': 'title'},\n",
      "                                         'Status': {   'id': 'B%7B%60Q',\n",
      "                                                       'name': 'Status',\n",
      "                                                       'select': {   'options': [   {   'color': 'yellow',\n",
      "                                                                                        'id': 'jwrl',\n",
      "                                                                                        'name': 'Backlog'},\n",
      "                                                                                    {   'color': 'pink',\n",
      "                                                                                        'id': 'JBja',\n",
      "                                                                                        'name': 'Wont '\n",
      "                                                                                                'Do'},\n",
      "                                                                                    {   'color': 'orange',\n",
      "                                                                                        'id': '?iry',\n",
      "                                                                                        'name': 'On '\n",
      "                                                                                                'Going'},\n",
      "                                                                                    {   'color': 'brown',\n",
      "                                                                                        'id': 'ndg~',\n",
      "                                                                                        'name': 'Investigating'},\n",
      "                                                                                    {   'color': 'red',\n",
      "                                                                                        'id': 'nDGc',\n",
      "                                                                                        'name': 'Design'},\n",
      "                                                                                    {   'color': 'blue',\n",
      "                                                                                        'id': '6a07fc51-db56-4ead-b6a5-8c8c15c043b7',\n",
      "                                                                                        'name': 'Assigned'},\n",
      "                                                                                    {   'color': 'default',\n",
      "                                                                                        'id': 'fe98766c-0a0e-471a-adb3-bfb35cfbf31a',\n",
      "                                                                                        'name': 'Blocked'},\n",
      "                                                                                    {   'color': 'purple',\n",
      "                                                                                        'id': '5419a135-f6a8-487a-bcec-1b676106178e',\n",
      "                                                                                        'name': 'Completed'},\n",
      "                                                                                    {   'color': 'gray',\n",
      "                                                                                        'id': '6e8edbe4-b4fb-4414-84cc-c233c3ed7164',\n",
      "                                                                                        'name': 'Waiting: '\n",
      "                                                                                                'Processing'},\n",
      "                                                                                    {   'color': 'green',\n",
      "                                                                                        'id': 'b1db78dd-cc8f-4869-bbce-ab9863deaf42',\n",
      "                                                                                        'name': 'Recursive'},\n",
      "                                                                                    {   'color': 'blue',\n",
      "                                                                                        'id': 'cf11ffc6-0264-435c-9644-1b67ed97f268',\n",
      "                                                                                        'name': 'Recurring'},\n",
      "                                                                                    {   'color': 'orange',\n",
      "                                                                                        'id': '7b95ada9-c638-40d2-bf93-28e10a8f5982',\n",
      "                                                                                        'name': 'Triage'}]},\n",
      "                                                       'type': 'select'},\n",
      "                                         'Task': {   'id': 'VtbQ',\n",
      "                                                     'name': 'Task',\n",
      "                                                     'select': {   'options': [   {   'color': 'orange',\n",
      "                                                                                      'id': 'TryB',\n",
      "                                                                                      'name': 'False'},\n",
      "                                                                                  {   'color': 'red',\n",
      "                                                                                      'id': 'AGYz',\n",
      "                                                                                      'name': 'True'}]},\n",
      "                                                     'type': 'select'}},\n",
      "                       'public_url': None,\n",
      "                       'title': [   {   'annotations': {   'bold': False,\n",
      "                                                           'code': False,\n",
      "                                                           'color': 'default',\n",
      "                                                           'italic': False,\n",
      "                                                           'strikethrough': False,\n",
      "                                                           'underline': False},\n",
      "                                        'href': None,\n",
      "                                        'plain_text': 'Tasks',\n",
      "                                        'text': {   'content': 'Tasks',\n",
      "                                                    'link': None},\n",
      "                                        'type': 'text'}],\n",
      "                       'url': 'https://www.notion.so/02545d2735d04ac1a3d94ad026cfa050'},\n",
      "                   {   'archived': False,\n",
      "                       'cover': None,\n",
      "                       'created_by': {   'id': '3d85dfcc-c1c7-40da-acb9-345cfff5adf2',\n",
      "                                         'object': 'user'},\n",
      "                       'created_time': '2023-08-04T18:13:00.000Z',\n",
      "                       'description': [],\n",
      "                       'icon': {   'external': {   'url': '/images/app-packages/task-db-icon.svg'},\n",
      "                                   'type': 'external'},\n",
      "                       'id': '739e7ab0-eccc-410c-a652-fa65570f167d',\n",
      "                       'is_inline': True,\n",
      "                       'last_edited_by': {   'id': '3d85dfcc-c1c7-40da-acb9-345cfff5adf2',\n",
      "                                             'object': 'user'},\n",
      "                       'last_edited_time': '2023-08-04T18:13:00.000Z',\n",
      "                       'object': 'database',\n",
      "                       'parent': {   'page_id': '29fd18ef-960d-4f40-a6a7-c9700f6cd099',\n",
      "                                     'type': 'page_id'},\n",
      "                       'properties': {   'Assignee': {   'id': 'notion%3A%2F%2Ftasks%2Fassign_property',\n",
      "                                                         'name': 'Assignee',\n",
      "                                                         'people': {},\n",
      "                                                         'type': 'people'},\n",
      "                                         'Blocked By': {   'id': 'notion%3A%2F%2Ftasks%2Ftask_blocked_by_relation',\n",
      "                                                           'name': 'Blocked By',\n",
      "                                                           'relation': {   'database_id': '739e7ab0-eccc-410c-a652-fa65570f167d',\n",
      "                                                                           'dual_property': {   'synced_property_id': 'notion%3A%2F%2Ftasks%2Ftask_blocking_relation',\n",
      "                                                                                                'synced_property_name': 'Is '\n",
      "                                                                                                                        'Blocking'},\n",
      "                                                                           'type': 'dual_property'},\n",
      "                                                           'type': 'relation'},\n",
      "                                         'Due': {   'date': {},\n",
      "                                                    'id': 'notion%3A%2F%2Ftasks%2Fdue_date_property',\n",
      "                                                    'name': 'Due',\n",
      "                                                    'type': 'date'},\n",
      "                                         'Is Blocking': {   'id': 'notion%3A%2F%2Ftasks%2Ftask_blocking_relation',\n",
      "                                                            'name': 'Is '\n",
      "                                                                    'Blocking',\n",
      "                                                            'relation': {   'database_id': '739e7ab0-eccc-410c-a652-fa65570f167d',\n",
      "                                                                            'dual_property': {   'synced_property_id': 'notion%3A%2F%2Ftasks%2Ftask_blocked_by_relation',\n",
      "                                                                                                 'synced_property_name': 'Blocked '\n",
      "                                                                                                                         'By'},\n",
      "                                                                            'type': 'dual_property'},\n",
      "                                                            'type': 'relation'},\n",
      "                                         'Parent-task': {   'id': 'notion%3A%2F%2Ftasks%2Fparent_task_relation',\n",
      "                                                            'name': 'Parent-task',\n",
      "                                                            'relation': {   'database_id': '739e7ab0-eccc-410c-a652-fa65570f167d',\n",
      "                                                                            'dual_property': {   'synced_property_id': 'notion%3A%2F%2Ftasks%2Fsub_task_relation',\n",
      "                                                                                                 'synced_property_name': 'Sub-tasks'},\n",
      "                                                                            'type': 'dual_property'},\n",
      "                                                            'type': 'relation'},\n",
      "                                         'Priority': {   'id': 'notion%3A%2F%2Ftasks%2Fpriority_property',\n",
      "                                                         'name': 'Priority',\n",
      "                                                         'select': {   'options': [   {   'color': 'green',\n",
      "                                                                                          'id': 'priority_low',\n",
      "                                                                                          'name': 'Low'},\n",
      "                                                                                      {   'color': 'yellow',\n",
      "                                                                                          'id': 'priority_medium',\n",
      "                                                                                          'name': 'Medium'},\n",
      "                                                                                      {   'color': 'red',\n",
      "                                                                                          'id': 'priority_high',\n",
      "                                                                                          'name': 'High'}]},\n",
      "                                                         'type': 'select'},\n",
      "                                         'Project': {   'id': 'notion%3A%2F%2Ftasks%2Ftask_to_project_relation',\n",
      "                                                        'name': 'Project',\n",
      "                                                        'relation': {   'database_id': '9aa2d6e3-f564-43b0-b256-94eb7f934cd2',\n",
      "                                                                        'dual_property': {   'synced_property_id': 'notion%3A%2F%2Fprojects%2Fproject_to_task_relation',\n",
      "                                                                                             'synced_property_name': 'Tasks'},\n",
      "                                                                        'type': 'dual_property'},\n",
      "                                                        'type': 'relation'},\n",
      "                                         'Status': {   'id': 'notion%3A%2F%2Ftasks%2Fstatus_property',\n",
      "                                                       'name': 'Status',\n",
      "                                                       'status': {   'groups': [   {   'color': 'gray',\n",
      "                                                                                       'id': 'todo-status-group',\n",
      "                                                                                       'name': 'To-do',\n",
      "                                                                                       'option_ids': [   'not-started']},\n",
      "                                                                                   {   'color': 'blue',\n",
      "                                                                                       'id': 'in-progress-status-group',\n",
      "                                                                                       'name': 'In '\n",
      "                                                                                               'Progress',\n",
      "                                                                                       'option_ids': [   'in-progress']},\n",
      "                                                                                   {   'color': 'green',\n",
      "                                                                                       'id': 'complete-status-group',\n",
      "                                                                                       'name': 'Complete',\n",
      "                                                                                       'option_ids': [   'done',\n",
      "                                                                                                         'archived']}],\n",
      "                                                                     'options': [   {   'color': 'default',\n",
      "                                                                                        'id': 'not-started',\n",
      "                                                                                        'name': 'Not '\n",
      "                                                                                                'Started'},\n",
      "                                                                                    {   'color': 'blue',\n",
      "                                                                                        'id': 'in-progress',\n",
      "                                                                                        'name': 'In '\n",
      "                                                                                                'Progress'},\n",
      "                                                                                    {   'color': 'green',\n",
      "                                                                                        'id': 'done',\n",
      "                                                                                        'name': 'Done'},\n",
      "                                                                                    {   'color': 'gray',\n",
      "                                                                                        'id': 'archived',\n",
      "                                                                                        'name': 'Archived'}]},\n",
      "                                                       'type': 'status'},\n",
      "                                         'Sub-tasks': {   'id': 'notion%3A%2F%2Ftasks%2Fsub_task_relation',\n",
      "                                                          'name': 'Sub-tasks',\n",
      "                                                          'relation': {   'database_id': '739e7ab0-eccc-410c-a652-fa65570f167d',\n",
      "                                                                          'dual_property': {   'synced_property_id': 'notion%3A%2F%2Ftasks%2Fparent_task_relation',\n",
      "                                                                                               'synced_property_name': 'Parent-task'},\n",
      "                                                                          'type': 'dual_property'},\n",
      "                                                          'type': 'relation'},\n",
      "                                         'Tags': {   'id': 'notion%3A%2F%2Ftasks%2Ftags_property',\n",
      "                                                     'multi_select': {   'options': [   {   'color': 'purple',\n",
      "                                                                                            'id': 'Mobile',\n",
      "                                                                                            'name': 'Mobile'},\n",
      "                                                                                        {   'color': 'blue',\n",
      "                                                                                            'id': 'Website',\n",
      "                                                                                            'name': 'Website'},\n",
      "                                                                                        {   'color': 'pink',\n",
      "                                                                                            'id': 'Improvement',\n",
      "                                                                                            'name': 'Improvement'},\n",
      "                                                                                        {   'color': 'green',\n",
      "                                                                                            'id': '45c99bfc-4de8-41be-a309-4bf6a767af7c',\n",
      "                                                                                            'name': 'Marketing'},\n",
      "                                                                                        {   'color': 'gray',\n",
      "                                                                                            'id': '5188b5dd-60dc-4995-a488-e3418c63af51',\n",
      "                                                                                            'name': 'Research'},\n",
      "                                                                                        {   'color': 'default',\n",
      "                                                                                            'id': '26e303fd-faeb-48ed-b9fc-d825416f5274',\n",
      "                                                                                            'name': 'Branding'},\n",
      "                                                                                        {   'color': 'red',\n",
      "                                                                                            'id': '1b80a7c4-9404-4c6b-bb9e-c510d96c34ee',\n",
      "                                                                                            'name': 'Video '\n",
      "                                                                                                    'production'},\n",
      "                                                                                        {   'color': 'brown',\n",
      "                                                                                            'id': '4d131c0d-2b06-4e03-abd1-3cf1f4486d7c',\n",
      "                                                                                            'name': 'Metrics'},\n",
      "                                                                                        {   'color': 'orange',\n",
      "                                                                                            'id': '4278d074-b814-47cd-b6ed-23497553a14d',\n",
      "                                                                                            'name': 'UI/UX'},\n",
      "                                                                                        {   'color': 'yellow',\n",
      "                                                                                            'id': 'd0b8f0d6-bb8c-4351-bd7a-bc8375f58570',\n",
      "                                                                                            'name': 'Development'},\n",
      "                                                                                        {   'color': 'gray',\n",
      "                                                                                            'id': '3ba4f56b-db97-4b16-8793-3d5a682d7ed2',\n",
      "                                                                                            'name': 'User '\n",
      "                                                                                                    'feedback'},\n",
      "                                                                                        {   'color': 'red',\n",
      "                                                                                            'id': 'edbdadb8-a1a2-4b0b-801a-74ce5aa9973f',\n",
      "                                                                                            'name': 'Customer '\n",
      "                                                                                                    'support'},\n",
      "                                                                                        {   'color': 'pink',\n",
      "                                                                                            'id': '46a80586-177e-4077-95dc-8c2ba0424ebf',\n",
      "                                                                                            'name': 'Staff '\n",
      "                                                                                                    'training'}]},\n",
      "                                                     'name': 'Tags',\n",
      "                                                     'type': 'multi_select'},\n",
      "                                         'Task name': {   'id': 'title',\n",
      "                                                          'name': 'Task name',\n",
      "                                                          'title': {},\n",
      "                                                          'type': 'title'}},\n",
      "                       'public_url': None,\n",
      "                       'title': [   {   'annotations': {   'bold': False,\n",
      "                                                           'code': False,\n",
      "                                                           'color': 'default',\n",
      "                                                           'italic': False,\n",
      "                                                           'strikethrough': False,\n",
      "                                                           'underline': False},\n",
      "                                        'href': None,\n",
      "                                        'plain_text': 'Tasks',\n",
      "                                        'text': {   'content': 'Tasks',\n",
      "                                                    'link': None},\n",
      "                                        'type': 'text'}],\n",
      "                       'url': 'https://www.notion.so/739e7ab0eccc410ca652fa65570f167d'},\n",
      "                   {   'archived': False,\n",
      "                       'cover': None,\n",
      "                       'created_by': {   'id': '3d85dfcc-c1c7-40da-acb9-345cfff5adf2',\n",
      "                                         'object': 'user'},\n",
      "                       'created_time': '2022-07-30T07:29:00.000Z',\n",
      "                       'icon': None,\n",
      "                       'id': 'd2c9863a-1a65-4548-ac4c-7f95f9026b82',\n",
      "                       'last_edited_by': {   'id': '3d85dfcc-c1c7-40da-acb9-345cfff5adf2',\n",
      "                                             'object': 'user'},\n",
      "                       'last_edited_time': '2022-07-31T22:24:00.000Z',\n",
      "                       'object': 'page',\n",
      "                       'parent': {   'database_id': '02545d27-35d0-4ac1-a3d9-4ad026cfa050',\n",
      "                                     'type': 'database_id'},\n",
      "                       'properties': {   'Complexity': {   'id': '~iYV',\n",
      "                                                           'select': {   'color': 'blue',\n",
      "                                                                         'id': '[xcR',\n",
      "                                                                         'name': 'low'},\n",
      "                                                           'type': 'select'},\n",
      "                                         'Due Date': {   'date': {   'end': None,\n",
      "                                                                     'start': '2022-07-31',\n",
      "                                                                     'time_zone': None},\n",
      "                                                         'id': 'HGNu',\n",
      "                                                         'type': 'date'},\n",
      "                                         'Impact': {   'id': 'xnqz',\n",
      "                                                       'select': {   'color': 'default',\n",
      "                                                                     'id': 'Bk~K',\n",
      "                                                                     'name': 'high'},\n",
      "                                                       'type': 'select'},\n",
      "                                         'LOE': {   'id': '%7BEoI',\n",
      "                                                    'select': {   'color': 'red',\n",
      "                                                                  'id': '\\\\vYR',\n",
      "                                                                  'name': '<2H'},\n",
      "                                                    'type': 'select'},\n",
      "                                         'Name': {   'id': 'title',\n",
      "                                                     'title': [   {   'annotations': {   'bold': False,\n",
      "                                                                                         'code': False,\n",
      "                                                                                         'color': 'default',\n",
      "                                                                                         'italic': False,\n",
      "                                                                                         'strikethrough': False,\n",
      "                                                                                         'underline': False},\n",
      "                                                                      'href': None,\n",
      "                                                                      'plain_text': 'need '\n",
      "                                                                                    'to '\n",
      "                                                                                    'efficiently '\n",
      "                                                                                    'track '\n",
      "                                                                                    'daily '\n",
      "                                                                                    'tasks/habits',\n",
      "                                                                      'text': {   'content': 'need '\n",
      "                                                                                             'to '\n",
      "                                                                                             'efficiently '\n",
      "                                                                                             'track '\n",
      "                                                                                             'daily '\n",
      "                                                                                             'tasks/habits',\n",
      "                                                                                  'link': None},\n",
      "                                                                      'type': 'text'}],\n",
      "                                                     'type': 'title'},\n",
      "                                         'Status': {   'id': 'B%7B%60Q',\n",
      "                                                       'select': {   'color': 'purple',\n",
      "                                                                     'id': '5419a135-f6a8-487a-bcec-1b676106178e',\n",
      "                                                                     'name': 'Completed'},\n",
      "                                                       'type': 'select'},\n",
      "                                         'Task': {   'id': 'VtbQ',\n",
      "                                                     'select': None,\n",
      "                                                     'type': 'select'}},\n",
      "                       'public_url': None,\n",
      "                       'url': 'https://www.notion.so/need-to-efficiently-track-daily-tasks-habits-d2c9863a1a654548ac4c7f95f9026b82'},\n",
      "                   {   'archived': False,\n",
      "                       'cover': None,\n",
      "                       'created_by': {   'id': '3d85dfcc-c1c7-40da-acb9-345cfff5adf2',\n",
      "                                         'object': 'user'},\n",
      "                       'created_time': '2022-07-30T06:59:00.000Z',\n",
      "                       'icon': None,\n",
      "                       'id': 'a21653ce-f2fc-43bf-8b00-9b7e42afe92b',\n",
      "                       'last_edited_by': {   'id': '3d85dfcc-c1c7-40da-acb9-345cfff5adf2',\n",
      "                                             'object': 'user'},\n",
      "                       'last_edited_time': '2022-07-30T07:20:00.000Z',\n",
      "                       'object': 'page',\n",
      "                       'parent': {   'database_id': '02545d27-35d0-4ac1-a3d9-4ad026cfa050',\n",
      "                                     'type': 'database_id'},\n",
      "                       'properties': {   'Complexity': {   'id': '~iYV',\n",
      "                                                           'select': None,\n",
      "                                                           'type': 'select'},\n",
      "                                         'Due Date': {   'date': None,\n",
      "                                                         'id': 'HGNu',\n",
      "                                                         'type': 'date'},\n",
      "                                         'Impact': {   'id': 'xnqz',\n",
      "                                                       'select': None,\n",
      "                                                       'type': 'select'},\n",
      "                                         'LOE': {   'id': '%7BEoI',\n",
      "                                                    'select': None,\n",
      "                                                    'type': 'select'},\n",
      "                                         'Name': {   'id': 'title',\n",
      "                                                     'title': [   {   'annotations': {   'bold': False,\n",
      "                                                                                         'code': False,\n",
      "                                                                                         'color': 'default',\n",
      "                                                                                         'italic': False,\n",
      "                                                                                         'strikethrough': False,\n",
      "                                                                                         'underline': False},\n",
      "                                                                      'href': None,\n",
      "                                                                      'plain_text': 'Task',\n",
      "                                                                      'text': {   'content': 'Task',\n",
      "                                                                                  'link': None},\n",
      "                                                                      'type': 'text'}],\n",
      "                                                     'type': 'title'},\n",
      "                                         'Status': {   'id': 'B%7B%60Q',\n",
      "                                                       'select': None,\n",
      "                                                       'type': 'select'},\n",
      "                                         'Task': {   'id': 'VtbQ',\n",
      "                                                     'select': None,\n",
      "                                                     'type': 'select'}},\n",
      "                       'public_url': None,\n",
      "                       'url': 'https://www.notion.so/Task-a21653cef2fc43bf8b009b7e42afe92b'}],\n",
      "    'type': 'page_or_database'}\n"
     ]
    }
   ],
   "source": [
    "pp.pprint(notion.search(query= 'tasks', value='database'))"
   ]
  },
  {
   "cell_type": "code",
   "execution_count": 22,
   "id": "1c09112d-4118-4d78-b5f7-a6adea7e269f",
   "metadata": {},
   "outputs": [],
   "source": [
    "task_db = notion.databases.query(database_id='02545d27-35d0-4ac1-a3d9-4ad026cfa050')"
   ]
  },
  {
   "cell_type": "code",
   "execution_count": 23,
   "id": "1599e47a-364e-4df0-b9ae-435e5abfcb4e",
   "metadata": {},
   "outputs": [
    {
     "data": {
      "text/plain": [
       "dict"
      ]
     },
     "execution_count": 23,
     "metadata": {},
     "output_type": "execute_result"
    }
   ],
   "source": [
    "type(task_db)"
   ]
  },
  {
   "cell_type": "code",
   "execution_count": 24,
   "id": "2830b958-001a-472b-8b08-f5fb96be766c",
   "metadata": {},
   "outputs": [
    {
     "data": {
      "text/plain": [
       "dict_keys(['object', 'results', 'next_cursor', 'has_more', 'type', 'page_or_database'])"
      ]
     },
     "execution_count": 24,
     "metadata": {},
     "output_type": "execute_result"
    }
   ],
   "source": [
    "task_db.keys()"
   ]
  },
  {
   "cell_type": "code",
   "execution_count": 25,
   "id": "a04ad823-8731-46a8-ba1b-a53b24c001fe",
   "metadata": {},
   "outputs": [],
   "source": [
    "results = task_db['results']\n",
    "# type(results[0])"
   ]
  },
  {
   "cell_type": "code",
   "execution_count": 28,
   "id": "26484d5c-8896-4336-aafc-c958bbffac4b",
   "metadata": {},
   "outputs": [
    {
     "name": "stdout",
     "output_type": "stream",
     "text": [
      "{'2023-08-06'} {'2023-12-31'}\n",
      "{'2023-08-05T15:00:00.000-04:00'} {'2023-08-12T16:00:00.000-04:00'}\n",
      "{'2023-08-03'} {'2023-08-08'}\n",
      "{'2023-08-05'} {'2023-08-12'}\n"
     ]
    },
    {
     "ename": "TypeError",
     "evalue": "'NoneType' object is not subscriptable",
     "output_type": "error",
     "traceback": [
      "\u001b[0;31m---------------------------------------------------------------------------\u001b[0m",
      "\u001b[0;31mTypeError\u001b[0m                                 Traceback (most recent call last)",
      "Cell \u001b[0;32mIn[28], line 2\u001b[0m\n\u001b[1;32m      1\u001b[0m \u001b[38;5;28;01mfor\u001b[39;00m r \u001b[38;5;129;01min\u001b[39;00m results:\n\u001b[0;32m----> 2\u001b[0m     \u001b[38;5;28;01mif\u001b[39;00m \u001b[43mr\u001b[49m\u001b[43m[\u001b[49m\u001b[38;5;124;43m'\u001b[39;49m\u001b[38;5;124;43mproperties\u001b[39;49m\u001b[38;5;124;43m'\u001b[39;49m\u001b[43m]\u001b[49m\u001b[43m[\u001b[49m\u001b[38;5;124;43m'\u001b[39;49m\u001b[38;5;124;43mDue Date\u001b[39;49m\u001b[38;5;124;43m'\u001b[39;49m\u001b[43m]\u001b[49m\u001b[43m[\u001b[49m\u001b[38;5;124;43m'\u001b[39;49m\u001b[38;5;124;43mdate\u001b[39;49m\u001b[38;5;124;43m'\u001b[39;49m\u001b[43m]\u001b[49m\u001b[43m[\u001b[49m\u001b[38;5;124;43m'\u001b[39;49m\u001b[38;5;124;43mstart\u001b[39;49m\u001b[38;5;124;43m'\u001b[39;49m\u001b[43m]\u001b[49m \u001b[38;5;129;01mand\u001b[39;00m r[\u001b[38;5;124m'\u001b[39m\u001b[38;5;124mproperties\u001b[39m\u001b[38;5;124m'\u001b[39m][\u001b[38;5;124m'\u001b[39m\u001b[38;5;124mDue Date\u001b[39m\u001b[38;5;124m'\u001b[39m][\u001b[38;5;124m'\u001b[39m\u001b[38;5;124mdate\u001b[39m\u001b[38;5;124m'\u001b[39m][\u001b[38;5;124m'\u001b[39m\u001b[38;5;124mend\u001b[39m\u001b[38;5;124m'\u001b[39m]:\n\u001b[1;32m      3\u001b[0m         \u001b[38;5;28mprint\u001b[39m({r[\u001b[38;5;124m'\u001b[39m\u001b[38;5;124mproperties\u001b[39m\u001b[38;5;124m'\u001b[39m][\u001b[38;5;124m'\u001b[39m\u001b[38;5;124mDue Date\u001b[39m\u001b[38;5;124m'\u001b[39m][\u001b[38;5;124m'\u001b[39m\u001b[38;5;124mdate\u001b[39m\u001b[38;5;124m'\u001b[39m][\u001b[38;5;124m'\u001b[39m\u001b[38;5;124mstart\u001b[39m\u001b[38;5;124m'\u001b[39m]}, {r[\u001b[38;5;124m'\u001b[39m\u001b[38;5;124mproperties\u001b[39m\u001b[38;5;124m'\u001b[39m][\u001b[38;5;124m'\u001b[39m\u001b[38;5;124mDue Date\u001b[39m\u001b[38;5;124m'\u001b[39m][\u001b[38;5;124m'\u001b[39m\u001b[38;5;124mdate\u001b[39m\u001b[38;5;124m'\u001b[39m][\u001b[38;5;124m'\u001b[39m\u001b[38;5;124mend\u001b[39m\u001b[38;5;124m'\u001b[39m]})\n",
      "\u001b[0;31mTypeError\u001b[0m: 'NoneType' object is not subscriptable"
     ]
    }
   ],
   "source": [
    "for r in results:\n",
    "    if r['properties']['Due Date']['date']['start'] and r['properties']['Due Date']['date']['end']:\n",
    "        print({r['properties']['Due Date']['date']['start']}, {r['properties']['Due Date']['date']['end']})"
   ]
  },
  {
   "cell_type": "code",
   "execution_count": 27,
   "id": "c58e681d-0c88-4efc-afc9-a3afbf05417f",
   "metadata": {},
   "outputs": [
    {
     "data": {
      "text/plain": [
       "dict_keys(['object', 'id', 'created_time', 'last_edited_time', 'created_by', 'last_edited_by', 'cover', 'icon', 'parent', 'archived', 'properties', 'url', 'public_url'])"
      ]
     },
     "execution_count": 27,
     "metadata": {},
     "output_type": "execute_result"
    }
   ],
   "source": [
    "results[0].keys()"
   ]
  },
  {
   "cell_type": "code",
   "execution_count": 10,
   "id": "569c779a-711d-4138-a038-717c67a5bc93",
   "metadata": {},
   "outputs": [
    {
     "data": {
      "text/plain": [
       "{'object': 'page',\n",
       " 'id': '467b8a3f-7b4e-475b-935b-9ba13699b087',\n",
       " 'created_time': '2023-08-06T05:43:00.000Z',\n",
       " 'last_edited_time': '2023-08-06T06:02:00.000Z',\n",
       " 'created_by': {'object': 'user',\n",
       "  'id': '3d85dfcc-c1c7-40da-acb9-345cfff5adf2'},\n",
       " 'last_edited_by': {'object': 'user',\n",
       "  'id': '3d85dfcc-c1c7-40da-acb9-345cfff5adf2'},\n",
       " 'cover': None,\n",
       " 'icon': {'type': 'emoji', 'emoji': '💍'},\n",
       " 'parent': {'type': 'database_id',\n",
       "  'database_id': '02545d27-35d0-4ac1-a3d9-4ad026cfa050'},\n",
       " 'archived': False,\n",
       " 'properties': {'Status': {'id': 'B%7B%60Q',\n",
       "   'type': 'select',\n",
       "   'select': {'id': 'nDGc', 'name': 'Design', 'color': 'red'}},\n",
       "  'Due Date': {'id': 'HGNu',\n",
       "   'type': 'date',\n",
       "   'date': {'start': '2023-08-06', 'end': '2023-12-31', 'time_zone': None}},\n",
       "  'Task': {'id': 'VtbQ', 'type': 'select', 'select': None},\n",
       "  'Impact': {'id': 'xnqz',\n",
       "   'type': 'select',\n",
       "   'select': {'id': 'Bk~K', 'name': 'high', 'color': 'default'}},\n",
       "  'LOE': {'id': '%7BEoI',\n",
       "   'type': 'select',\n",
       "   'select': {'id': 'tPhw',\n",
       "    'name': 'Break into smaller pieces',\n",
       "    'color': 'default'}},\n",
       "  'Complexity': {'id': '~iYV',\n",
       "   'type': 'select',\n",
       "   'select': {'id': 'iG^Z', 'name': 'high', 'color': 'pink'}},\n",
       "  'Name': {'id': 'title',\n",
       "   'type': 'title',\n",
       "   'title': [{'type': 'text',\n",
       "     'text': {'content': 'Surabhi Di Wedding ', 'link': None},\n",
       "     'annotations': {'bold': False,\n",
       "      'italic': False,\n",
       "      'strikethrough': False,\n",
       "      'underline': False,\n",
       "      'code': False,\n",
       "      'color': 'default'},\n",
       "     'plain_text': 'Surabhi Di Wedding ',\n",
       "     'href': None}]}},\n",
       " 'url': 'https://www.notion.so/Surabhi-Di-Wedding-467b8a3f7b4e475b935b9ba13699b087',\n",
       " 'public_url': None}"
      ]
     },
     "execution_count": 10,
     "metadata": {},
     "output_type": "execute_result"
    }
   ],
   "source": [
    "results[0]"
   ]
  },
  {
   "cell_type": "code",
   "execution_count": 13,
   "id": "1fba81fd-4dfd-4c3e-b764-323c13625f59",
   "metadata": {},
   "outputs": [
    {
     "data": {
      "text/plain": [
       "37"
      ]
     },
     "execution_count": 13,
     "metadata": {},
     "output_type": "execute_result"
    }
   ],
   "source": [
    "len(results)"
   ]
  },
  {
   "cell_type": "code",
   "execution_count": 11,
   "id": "5a871057-5178-495c-88a7-fabc0e03a344",
   "metadata": {},
   "outputs": [
    {
     "data": {
      "text/plain": [
       "{'object': 'page',\n",
       " 'id': '80f33b5c-3d53-474a-8c80-8a02e39ba89a',\n",
       " 'created_time': '2023-08-19T16:45:00.000Z',\n",
       " 'last_edited_time': '2023-10-07T20:26:00.000Z',\n",
       " 'created_by': {'object': 'user',\n",
       "  'id': '3d85dfcc-c1c7-40da-acb9-345cfff5adf2'},\n",
       " 'last_edited_by': {'object': 'user',\n",
       "  'id': '3d85dfcc-c1c7-40da-acb9-345cfff5adf2'},\n",
       " 'cover': None,\n",
       " 'icon': None,\n",
       " 'parent': {'type': 'database_id',\n",
       "  'database_id': '02545d27-35d0-4ac1-a3d9-4ad026cfa050'},\n",
       " 'archived': True,\n",
       " 'properties': {'Status': {'id': 'B%7B%60Q', 'type': 'select', 'select': None},\n",
       "  'Due Date': {'id': 'HGNu', 'type': 'date', 'date': None},\n",
       "  'Task': {'id': 'VtbQ', 'type': 'select', 'select': None},\n",
       "  'Impact': {'id': 'xnqz', 'type': 'select', 'select': None},\n",
       "  'LOE': {'id': '%7BEoI', 'type': 'select', 'select': None},\n",
       "  'Complexity': {'id': '~iYV', 'type': 'select', 'select': None},\n",
       "  'Name': {'id': 'title', 'type': 'title', 'title': []}},\n",
       " 'url': 'https://www.notion.so/80f33b5c3d53474a8c808a02e39ba89a',\n",
       " 'public_url': None}"
      ]
     },
     "execution_count": 11,
     "metadata": {},
     "output_type": "execute_result"
    }
   ],
   "source": [
    "notion.pages.retrieve(page_id= '80f33b5c-3d53-474a-8c80-8a02e39ba89a')"
   ]
  },
  {
   "cell_type": "code",
   "execution_count": 12,
   "id": "60c7a745-3384-4e52-9a40-56754c0b3a38",
   "metadata": {},
   "outputs": [],
   "source": [
    "for page_meta in results:\n",
    "    page_id = page_meta.get('id')\n",
    "    page = notion.pages.retrieve(page_id=page_id)\n",
    "    "
   ]
  },
  {
   "cell_type": "code",
   "execution_count": 14,
   "id": "778ff8aa-5406-4f0e-97db-27f2457162b3",
   "metadata": {},
   "outputs": [],
   "source": [
    "# from runtime notion2 gcal \n",
    "response = [{'kind': 'calendar#event', 'etag': '\"3393439905102000\"', 'id': 'ur4aku1v234g8qsrls69d8570o', 'status': 'confirmed', 'htmlLink': 'https://www.google.com/calendar/event?eid=dXI0YWt1MXYyMzRnOHFzcmxzNjlkODU3MG8gYXBzLm1haWxkcm9wQG0', 'created': '2023-10-07T23:05:52.000Z', 'updated': '2023-10-07T23:05:52.551Z', 'summary': 'Surabhi Di Wedding ', 'description': 'Status: Design\\nImpact: high\\nLOE: Break into smaller pieces\\nComplexity: high', 'creator': {'email': 'aps.maildrop@gmail.com', 'self': True}, 'organizer': {'email': 'aps.maildrop@gmail.com', 'self': True}, 'start': {'dateTime': '2023-10-08T05:00:00-04:00', 'timeZone': 'UTC'}, 'end': {'dateTime': '2023-10-08T06:00:00-04:00', 'timeZone': 'UTC'}, 'iCalUID': 'ur4aku1v234g8qsrls69d8570o@google.com', 'sequence': 0, 'reminders': {'useDefault': True}, 'eventType': 'default'}, {'kind': 'calendar#event', 'etag': '\"3393439905822000\"', 'id': 't6bjnc01uqs87ejigs3jp7ulb0', 'status': 'confirmed', 'htmlLink': 'https://www.google.com/calendar/event?eid=dDZiam5jMDF1cXM4N2VqaWdzM2pwN3VsYjAgYXBzLm1haWxkcm9wQG0', 'created': '2023-10-07T23:05:52.000Z', 'updated': '2023-10-07T23:05:52.911Z', 'summary': 'Apply for jobs at Amex', 'description': 'Status: Assigned\\nImpact: low\\nLOE: <2H\\nComplexity: low', 'creator': {'email': 'aps.maildrop@gmail.com', 'self': True}, 'organizer': {'email': 'aps.maildrop@gmail.com', 'self': True}, 'start': {'dateTime': '2023-10-08T05:00:00-04:00', 'timeZone': 'UTC'}, 'end': {'dateTime': '2023-10-08T06:00:00-04:00', 'timeZone': 'UTC'}, 'iCalUID': 't6bjnc01uqs87ejigs3jp7ulb0@google.com', 'sequence': 0, 'reminders': {'useDefault': True}, 'eventType': 'default'}, {'kind': 'calendar#event', 'etag': '\"3393439906792000\"', 'id': '2hvck4u5otpohtisl8k3c9sbs8', 'status': 'confirmed', 'htmlLink': 'https://www.google.com/calendar/event?eid=Mmh2Y2s0dTVvdHBvaHRpc2w4azNjOXNiczggYXBzLm1haWxkcm9wQG0', 'created': '2023-10-07T23:05:53.000Z', 'updated': '2023-10-07T23:05:53.396Z', 'summary': 'Prepare for meet with Shobhit', 'description': 'Status: Completed\\nImpact: high\\nLOE: <2H\\nComplexity: low', 'creator': {'email': 'aps.maildrop@gmail.com', 'self': True}, 'organizer': {'email': 'aps.maildrop@gmail.com', 'self': True}, 'start': {'dateTime': '2023-10-08T05:00:00-04:00', 'timeZone': 'UTC'}, 'end': {'dateTime': '2023-10-08T06:00:00-04:00', 'timeZone': 'UTC'}, 'iCalUID': '2hvck4u5otpohtisl8k3c9sbs8@google.com', 'sequence': 0, 'reminders': {'useDefault': True}, 'eventType': 'default'}, {'kind': 'calendar#event', 'etag': '\"3393439907422000\"', 'id': 'm6jakham539uoikk9e4j5jgneg', 'status': 'confirmed', 'htmlLink': 'https://www.google.com/calendar/event?eid=bTZqYWtoYW01Mzl1b2lrazllNGo1amduZWcgYXBzLm1haWxkcm9wQG0', 'created': '2023-10-07T23:05:53.000Z', 'updated': '2023-10-07T23:05:53.711Z', 'summary': 'Work for Next Session - Gaurav Bhaiya', 'description': 'Status: Design\\nImpact: medium\\nLOE: <6H\\nComplexity: low', 'creator': {'email': 'aps.maildrop@gmail.com', 'self': True}, 'organizer': {'email': 'aps.maildrop@gmail.com', 'self': True}, 'start': {'dateTime': '2023-10-08T05:00:00-04:00', 'timeZone': 'UTC'}, 'end': {'dateTime': '2023-10-08T06:00:00-04:00', 'timeZone': 'UTC'}, 'iCalUID': 'm6jakham539uoikk9e4j5jgneg@google.com', 'sequence': 0, 'reminders': {'useDefault': True}, 'eventType': 'default'}, None, None, None, None, None, None, None, None, None, None, None, None, None, None, None, None, None, None, None, None, None, {'kind': 'calendar#event', 'etag': '\"3393439917364000\"', 'id': 'o2307hd75v0de8vu5iejri4oms', 'status': 'confirmed', 'htmlLink': 'https://www.google.com/calendar/event?eid=bzIzMDdoZDc1djBkZTh2dTVpZWpyaTRvbXMgYXBzLm1haWxkcm9wQG0', 'created': '2023-10-07T23:05:58.000Z', 'updated': '2023-10-07T23:05:58.682Z', 'summary': 'fill up Dad’s DS-160', 'description': 'Status: Completed\\nImpact: high\\nLOE: 1 Day\\nComplexity: medium', 'creator': {'email': 'aps.maildrop@gmail.com', 'self': True}, 'organizer': {'email': 'aps.maildrop@gmail.com', 'self': True}, 'start': {'dateTime': '2023-10-08T05:00:00-04:00', 'timeZone': 'UTC'}, 'end': {'dateTime': '2023-10-08T06:00:00-04:00', 'timeZone': 'UTC'}, 'iCalUID': 'o2307hd75v0de8vu5iejri4oms@google.com', 'sequence': 0, 'reminders': {'useDefault': True}, 'eventType': 'default'}, {'kind': 'calendar#event', 'etag': '\"3393439918084000\"', 'id': '781ddoupitljlipbcil0g7d5lo', 'status': 'confirmed', 'htmlLink': 'https://www.google.com/calendar/event?eid=NzgxZGRvdXBpdGxqbGlwYmNpbDBnN2Q1bG8gYXBzLm1haWxkcm9wQG0', 'created': '2023-10-07T23:05:59.000Z', 'updated': '2023-10-07T23:05:59.042Z', 'summary': 'Sign and Pay Mom’s DS-160', 'description': 'Status: Completed\\nImpact: high\\nLOE: <4H\\nComplexity: low', 'creator': {'email': 'aps.maildrop@gmail.com', 'self': True}, 'organizer': {'email': 'aps.maildrop@gmail.com', 'self': True}, 'start': {'dateTime': '2023-10-08T05:00:00-04:00', 'timeZone': 'UTC'}, 'end': {'dateTime': '2023-10-08T06:00:00-04:00', 'timeZone': 'UTC'}, 'iCalUID': '781ddoupitljlipbcil0g7d5lo@google.com', 'sequence': 0, 'reminders': {'useDefault': True}, 'eventType': 'default'}, None, {'kind': 'calendar#event', 'etag': '\"3393439919222000\"', 'id': 'ftr42i94lfqh3j8qu7ibaeret4', 'status': 'confirmed', 'htmlLink': 'https://www.google.com/calendar/event?eid=ZnRyNDJpOTRsZnFoM2o4cXU3aWJhZXJldDQgYXBzLm1haWxkcm9wQG0', 'created': '2023-10-07T23:05:59.000Z', 'updated': '2023-10-07T23:05:59.611Z', 'summary': 'Get Dental Test', 'description': 'Status: Design\\nImpact: high\\nLOE: <6H\\nComplexity: low', 'creator': {'email': 'aps.maildrop@gmail.com', 'self': True}, 'organizer': {'email': 'aps.maildrop@gmail.com', 'self': True}, 'start': {'dateTime': '2023-10-08T05:00:00-04:00', 'timeZone': 'UTC'}, 'end': {'dateTime': '2023-10-08T06:00:00-04:00', 'timeZone': 'UTC'}, 'iCalUID': 'ftr42i94lfqh3j8qu7ibaeret4@google.com', 'sequence': 0, 'reminders': {'useDefault': True}, 'eventType': 'default'}, {'kind': 'calendar#event', 'etag': '\"3393439920284000\"', 'id': 'bf0bmjvcjov2pmkph38cqsb7to', 'status': 'confirmed', 'htmlLink': 'https://www.google.com/calendar/event?eid=YmYwYm1qdmNqb3YycG1rcGgzOGNxc2I3dG8gYXBzLm1haWxkcm9wQG0', 'created': '2023-10-07T23:06:00.000Z', 'updated': '2023-10-07T23:06:00.142Z', 'summary': 'Get Vision Test', 'description': 'Status: Completed\\nImpact: high\\nLOE: <6H\\nComplexity: low', 'creator': {'email': 'aps.maildrop@gmail.com', 'self': True}, 'organizer': {'email': 'aps.maildrop@gmail.com', 'self': True}, 'start': {'dateTime': '2023-10-08T05:00:00-04:00', 'timeZone': 'UTC'}, 'end': {'dateTime': '2023-10-08T06:00:00-04:00', 'timeZone': 'UTC'}, 'iCalUID': 'bf0bmjvcjov2pmkph38cqsb7to@google.com', 'sequence': 0, 'reminders': {'useDefault': True}, 'eventType': 'default'}, {'kind': 'calendar#event', 'etag': '\"3393439921276000\"', 'id': 'dvf71enh335vi98vkjmmhtr9pg', 'status': 'confirmed', 'htmlLink': 'https://www.google.com/calendar/event?eid=ZHZmNzFlbmgzMzV2aTk4dmtqbW1odHI5cGcgYXBzLm1haWxkcm9wQG0', 'created': '2023-10-07T23:06:00.000Z', 'updated': '2023-10-07T23:06:00.638Z', 'summary': 'book ticket from dehli→port blair', 'description': 'Status: Completed\\nImpact: high\\nLOE: <2H\\nComplexity: low', 'creator': {'email': 'aps.maildrop@gmail.com', 'self': True}, 'organizer': {'email': 'aps.maildrop@gmail.com', 'self': True}, 'start': {'dateTime': '2023-10-08T05:00:00-04:00', 'timeZone': 'UTC'}, 'end': {'dateTime': '2023-10-08T06:00:00-04:00', 'timeZone': 'UTC'}, 'iCalUID': 'dvf71enh335vi98vkjmmhtr9pg@google.com', 'sequence': 0, 'reminders': {'useDefault': True}, 'eventType': 'default'}, None, None, None, {'kind': 'calendar#event', 'etag': '\"3393439923130000\"', 'id': '4397mm5idke877m4v6k3vcadfc', 'status': 'confirmed', 'htmlLink': 'https://www.google.com/calendar/event?eid=NDM5N21tNWlka2U4NzdtNHY2azN2Y2FkZmMgYXBzLm1haWxkcm9wQG0', 'created': '2023-10-07T23:06:01.000Z', 'updated': '2023-10-07T23:06:01.565Z', 'summary': 'need to efficiently track daily tasks/habits', 'description': 'Status: Completed\\nImpact: high\\nLOE: <2H\\nComplexity: low', 'creator': {'email': 'aps.maildrop@gmail.com', 'self': True}, 'organizer': {'email': 'aps.maildrop@gmail.com', 'self': True}, 'start': {'dateTime': '2023-10-08T05:00:00-04:00', 'timeZone': 'UTC'}, 'end': {'dateTime': '2023-10-08T06:00:00-04:00', 'timeZone': 'UTC'}, 'iCalUID': '4397mm5idke877m4v6k3vcadfc@google.com', 'sequence': 0, 'reminders': {'useDefault': True}, 'eventType': 'default'}, {'kind': 'calendar#event', 'etag': '\"3393439923744000\"', 'id': 'kuhhlrlva6gslv42381jdnd0lc', 'status': 'confirmed', 'htmlLink': 'https://www.google.com/calendar/event?eid=a3VoaGxybHZhNmdzbHY0MjM4MWpkbmQwbGMgYXBzLm1haWxkcm9wQG0', 'created': '2023-10-07T23:06:01.000Z', 'updated': '2023-10-07T23:06:01.872Z', 'summary': '[Exercise] create template for adding new exercise', 'description': 'Status: Completed\\nImpact: medium\\nLOE: <2H\\nComplexity: low', 'creator': {'email': 'aps.maildrop@gmail.com', 'self': True}, 'organizer': {'email': 'aps.maildrop@gmail.com', 'self': True}, 'start': {'dateTime': '2023-10-08T05:00:00-04:00', 'timeZone': 'UTC'}, 'end': {'dateTime': '2023-10-08T06:00:00-04:00', 'timeZone': 'UTC'}, 'iCalUID': 'kuhhlrlva6gslv42381jdnd0lc@google.com', 'sequence': 0, 'reminders': {'useDefault': True}, 'eventType': 'default'}, {'kind': 'calendar#event', 'etag': '\"3393439924730000\"', 'id': 'q8pap0733i74obp82ind6m7nb8', 'status': 'confirmed', 'htmlLink': 'https://www.google.com/calendar/event?eid=cThwYXAwNzMzaTc0b2JwODJpbmQ2bTduYjggYXBzLm1haWxkcm9wQG0', 'created': '2023-10-07T23:06:02.000Z', 'updated': '2023-10-07T23:06:02.365Z', 'summary': '[Meal] create template for adding new recipe', 'description': 'Status: Completed\\nImpact: medium\\nLOE: <2H\\nComplexity: low', 'creator': {'email': 'aps.maildrop@gmail.com', 'self': True}, 'organizer': {'email': 'aps.maildrop@gmail.com', 'self': True}, 'start': {'dateTime': '2023-10-08T05:00:00-04:00', 'timeZone': 'UTC'}, 'end': {'dateTime': '2023-10-08T06:00:00-04:00', 'timeZone': 'UTC'}, 'iCalUID': 'q8pap0733i74obp82ind6m7nb8@google.com', 'sequence': 0, 'reminders': {'useDefault': True}, 'eventType': 'default'}]"
   ]
  },
  {
   "cell_type": "code",
   "execution_count": 18,
   "id": "1c0c841c-baa2-467d-bf95-108f5bf0a205",
   "metadata": {},
   "outputs": [],
   "source": [
    "status_list = [r['status']=='confirmed' if r else False for r in response]"
   ]
  },
  {
   "cell_type": "code",
   "execution_count": 19,
   "id": "2497f0ed-dc8c-4aa9-8501-098fd1708d49",
   "metadata": {},
   "outputs": [
    {
     "data": {
      "text/plain": [
       "37"
      ]
     },
     "execution_count": 19,
     "metadata": {},
     "output_type": "execute_result"
    }
   ],
   "source": [
    "len(status_list)"
   ]
  },
  {
   "cell_type": "code",
   "execution_count": 20,
   "id": "ac221ff0-7508-4f90-a653-38025abbc891",
   "metadata": {},
   "outputs": [
    {
     "data": {
      "text/plain": [
       "[True,\n",
       " True,\n",
       " True,\n",
       " True,\n",
       " False,\n",
       " False,\n",
       " False,\n",
       " False,\n",
       " False,\n",
       " False,\n",
       " False,\n",
       " False,\n",
       " False,\n",
       " False,\n",
       " False,\n",
       " False,\n",
       " False,\n",
       " False,\n",
       " False,\n",
       " False,\n",
       " False,\n",
       " False,\n",
       " False,\n",
       " False,\n",
       " False,\n",
       " True,\n",
       " True,\n",
       " False,\n",
       " True,\n",
       " True,\n",
       " True,\n",
       " False,\n",
       " False,\n",
       " False,\n",
       " True,\n",
       " True,\n",
       " True]"
      ]
     },
     "execution_count": 20,
     "metadata": {},
     "output_type": "execute_result"
    }
   ],
   "source": [
    "status_list"
   ]
  },
  {
   "cell_type": "code",
   "execution_count": 21,
   "id": "ab4d31a3-4b22-499e-8d1c-67e0a6afc46a",
   "metadata": {},
   "outputs": [
    {
     "data": {
      "text/plain": [
       "Counter({False: 25, True: 12})"
      ]
     },
     "execution_count": 21,
     "metadata": {},
     "output_type": "execute_result"
    }
   ],
   "source": [
    "from collections import Counter\n",
    "Counter(status_list)"
   ]
  },
  {
   "cell_type": "code",
   "execution_count": null,
   "id": "227bf992-5c51-412f-9f79-a714dbc30373",
   "metadata": {},
   "outputs": [],
   "source": []
  }
 ],
 "metadata": {
  "kernelspec": {
   "display_name": "Python 3 (ipykernel)",
   "language": "python",
   "name": "python3"
  },
  "language_info": {
   "codemirror_mode": {
    "name": "ipython",
    "version": 3
   },
   "file_extension": ".py",
   "mimetype": "text/x-python",
   "name": "python",
   "nbconvert_exporter": "python",
   "pygments_lexer": "ipython3",
   "version": "3.11.5"
  }
 },
 "nbformat": 4,
 "nbformat_minor": 5
}
